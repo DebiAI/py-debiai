{
  "cells": [
    {
      "cell_type": "markdown",
      "metadata": {
        "id": "YQB7yiF6v9GR"
      },
      "source": [
        "# DEBIAI Getting started :\n",
        "\n",
        "1\n",
        "- Data importing from a CSV file\n",
        "- Creation of a DEBIAI project\n",
        "- Insertion of the data into the project\n",
        "- Statistical analysis\n",
        "\n",
        "2\n",
        "- Simple model training\n",
        "- Insertion of two model results into DEBIAI\n",
        "- Statistical Model comparison\n",
        "- Creation of a new data selection\n",
        "\n",
        "3\n",
        "- Training of two new models\n",
        "- Results comparison\n",
        "- Conclusion"
      ]
    },
    {
      "cell_type": "code",
      "execution_count": 1,
      "metadata": {
        "id": "5IoRbCA2n0_V"
      },
      "outputs": [
        {
          "name": "stderr",
          "output_type": "stream",
          "text": [
            "2021-09-01 17:19:33.205437: W tensorflow/stream_executor/platform/default/dso_loader.cc:60] Could not load dynamic library 'libcudart.so.11.0'; dlerror: libcudart.so.11.0: cannot open shared object file: No such file or directory\n",
            "2021-09-01 17:19:33.205460: I tensorflow/stream_executor/cuda/cudart_stub.cc:29] Ignore above cudart dlerror if you do not have a GPU set up on your machine.\n"
          ]
        }
      ],
      "source": [
        "import pandas as pd\n",
        "import numpy as np\n",
        "import tensorflow as tf\n",
        "\n",
        "from debiai import debiai"
      ]
    },
    {
      "cell_type": "markdown",
      "metadata": {
        "id": "-2kBGy_pxn47"
      },
      "source": [
        "### Download the csv file containing a simple wine quality dataset.\n",
        "\n",
        "Modeling wine preferences by data mining from physicochemical properties.\n",
        "\n",
        "https://archive.ics.uci.edu/ml/datasets/Wine+Quality"
      ]
    },
    {
      "cell_type": "code",
      "execution_count": 2,
      "metadata": {
        "id": "VS4w2LePn9g3"
      },
      "outputs": [],
      "source": [
        "csv_file = tf.keras.utils.get_file('winequality-red.csv', 'https://archive.ics.uci.edu/ml/machine-learning-databases/wine-quality/winequality-white.csv')"
      ]
    },
    {
      "cell_type": "markdown",
      "metadata": {
        "id": "6BXRPD2-xtQ1"
      },
      "source": [
        "Read the csv file using pandas."
      ]
    },
    {
      "cell_type": "code",
      "execution_count": 3,
      "metadata": {
        "id": "UEfJ8TcMpe-2"
      },
      "outputs": [
        {
          "data": {
            "text/html": [
              "<div>\n",
              "<style scoped>\n",
              "    .dataframe tbody tr th:only-of-type {\n",
              "        vertical-align: middle;\n",
              "    }\n",
              "\n",
              "    .dataframe tbody tr th {\n",
              "        vertical-align: top;\n",
              "    }\n",
              "\n",
              "    .dataframe thead th {\n",
              "        text-align: right;\n",
              "    }\n",
              "</style>\n",
              "<table border=\"1\" class=\"dataframe\">\n",
              "  <thead>\n",
              "    <tr style=\"text-align: right;\">\n",
              "      <th></th>\n",
              "      <th>fixed acidity</th>\n",
              "      <th>volatile acidity</th>\n",
              "      <th>citric acid</th>\n",
              "      <th>residual sugar</th>\n",
              "      <th>chlorides</th>\n",
              "      <th>free sulfur dioxide</th>\n",
              "      <th>total sulfur dioxide</th>\n",
              "      <th>density</th>\n",
              "      <th>pH</th>\n",
              "      <th>sulphates</th>\n",
              "      <th>alcohol</th>\n",
              "      <th>quality</th>\n",
              "    </tr>\n",
              "  </thead>\n",
              "  <tbody>\n",
              "    <tr>\n",
              "      <th>0</th>\n",
              "      <td>7.0</td>\n",
              "      <td>0.27</td>\n",
              "      <td>0.36</td>\n",
              "      <td>20.7</td>\n",
              "      <td>0.045</td>\n",
              "      <td>45.0</td>\n",
              "      <td>170.0</td>\n",
              "      <td>1.00100</td>\n",
              "      <td>3.00</td>\n",
              "      <td>0.45</td>\n",
              "      <td>8.8</td>\n",
              "      <td>6</td>\n",
              "    </tr>\n",
              "    <tr>\n",
              "      <th>1</th>\n",
              "      <td>6.3</td>\n",
              "      <td>0.30</td>\n",
              "      <td>0.34</td>\n",
              "      <td>1.6</td>\n",
              "      <td>0.049</td>\n",
              "      <td>14.0</td>\n",
              "      <td>132.0</td>\n",
              "      <td>0.99400</td>\n",
              "      <td>3.30</td>\n",
              "      <td>0.49</td>\n",
              "      <td>9.5</td>\n",
              "      <td>6</td>\n",
              "    </tr>\n",
              "    <tr>\n",
              "      <th>2</th>\n",
              "      <td>8.1</td>\n",
              "      <td>0.28</td>\n",
              "      <td>0.40</td>\n",
              "      <td>6.9</td>\n",
              "      <td>0.050</td>\n",
              "      <td>30.0</td>\n",
              "      <td>97.0</td>\n",
              "      <td>0.99510</td>\n",
              "      <td>3.26</td>\n",
              "      <td>0.44</td>\n",
              "      <td>10.1</td>\n",
              "      <td>6</td>\n",
              "    </tr>\n",
              "    <tr>\n",
              "      <th>3</th>\n",
              "      <td>7.2</td>\n",
              "      <td>0.23</td>\n",
              "      <td>0.32</td>\n",
              "      <td>8.5</td>\n",
              "      <td>0.058</td>\n",
              "      <td>47.0</td>\n",
              "      <td>186.0</td>\n",
              "      <td>0.99560</td>\n",
              "      <td>3.19</td>\n",
              "      <td>0.40</td>\n",
              "      <td>9.9</td>\n",
              "      <td>6</td>\n",
              "    </tr>\n",
              "    <tr>\n",
              "      <th>4</th>\n",
              "      <td>7.2</td>\n",
              "      <td>0.23</td>\n",
              "      <td>0.32</td>\n",
              "      <td>8.5</td>\n",
              "      <td>0.058</td>\n",
              "      <td>47.0</td>\n",
              "      <td>186.0</td>\n",
              "      <td>0.99560</td>\n",
              "      <td>3.19</td>\n",
              "      <td>0.40</td>\n",
              "      <td>9.9</td>\n",
              "      <td>6</td>\n",
              "    </tr>\n",
              "    <tr>\n",
              "      <th>...</th>\n",
              "      <td>...</td>\n",
              "      <td>...</td>\n",
              "      <td>...</td>\n",
              "      <td>...</td>\n",
              "      <td>...</td>\n",
              "      <td>...</td>\n",
              "      <td>...</td>\n",
              "      <td>...</td>\n",
              "      <td>...</td>\n",
              "      <td>...</td>\n",
              "      <td>...</td>\n",
              "      <td>...</td>\n",
              "    </tr>\n",
              "    <tr>\n",
              "      <th>4893</th>\n",
              "      <td>6.2</td>\n",
              "      <td>0.21</td>\n",
              "      <td>0.29</td>\n",
              "      <td>1.6</td>\n",
              "      <td>0.039</td>\n",
              "      <td>24.0</td>\n",
              "      <td>92.0</td>\n",
              "      <td>0.99114</td>\n",
              "      <td>3.27</td>\n",
              "      <td>0.50</td>\n",
              "      <td>11.2</td>\n",
              "      <td>6</td>\n",
              "    </tr>\n",
              "    <tr>\n",
              "      <th>4894</th>\n",
              "      <td>6.6</td>\n",
              "      <td>0.32</td>\n",
              "      <td>0.36</td>\n",
              "      <td>8.0</td>\n",
              "      <td>0.047</td>\n",
              "      <td>57.0</td>\n",
              "      <td>168.0</td>\n",
              "      <td>0.99490</td>\n",
              "      <td>3.15</td>\n",
              "      <td>0.46</td>\n",
              "      <td>9.6</td>\n",
              "      <td>5</td>\n",
              "    </tr>\n",
              "    <tr>\n",
              "      <th>4895</th>\n",
              "      <td>6.5</td>\n",
              "      <td>0.24</td>\n",
              "      <td>0.19</td>\n",
              "      <td>1.2</td>\n",
              "      <td>0.041</td>\n",
              "      <td>30.0</td>\n",
              "      <td>111.0</td>\n",
              "      <td>0.99254</td>\n",
              "      <td>2.99</td>\n",
              "      <td>0.46</td>\n",
              "      <td>9.4</td>\n",
              "      <td>6</td>\n",
              "    </tr>\n",
              "    <tr>\n",
              "      <th>4896</th>\n",
              "      <td>5.5</td>\n",
              "      <td>0.29</td>\n",
              "      <td>0.30</td>\n",
              "      <td>1.1</td>\n",
              "      <td>0.022</td>\n",
              "      <td>20.0</td>\n",
              "      <td>110.0</td>\n",
              "      <td>0.98869</td>\n",
              "      <td>3.34</td>\n",
              "      <td>0.38</td>\n",
              "      <td>12.8</td>\n",
              "      <td>7</td>\n",
              "    </tr>\n",
              "    <tr>\n",
              "      <th>4897</th>\n",
              "      <td>6.0</td>\n",
              "      <td>0.21</td>\n",
              "      <td>0.38</td>\n",
              "      <td>0.8</td>\n",
              "      <td>0.020</td>\n",
              "      <td>22.0</td>\n",
              "      <td>98.0</td>\n",
              "      <td>0.98941</td>\n",
              "      <td>3.26</td>\n",
              "      <td>0.32</td>\n",
              "      <td>11.8</td>\n",
              "      <td>6</td>\n",
              "    </tr>\n",
              "  </tbody>\n",
              "</table>\n",
              "<p>4898 rows × 12 columns</p>\n",
              "</div>"
            ],
            "text/plain": [
              "      fixed acidity  volatile acidity  citric acid  residual sugar  chlorides  \\\n",
              "0               7.0              0.27         0.36            20.7      0.045   \n",
              "1               6.3              0.30         0.34             1.6      0.049   \n",
              "2               8.1              0.28         0.40             6.9      0.050   \n",
              "3               7.2              0.23         0.32             8.5      0.058   \n",
              "4               7.2              0.23         0.32             8.5      0.058   \n",
              "...             ...               ...          ...             ...        ...   \n",
              "4893            6.2              0.21         0.29             1.6      0.039   \n",
              "4894            6.6              0.32         0.36             8.0      0.047   \n",
              "4895            6.5              0.24         0.19             1.2      0.041   \n",
              "4896            5.5              0.29         0.30             1.1      0.022   \n",
              "4897            6.0              0.21         0.38             0.8      0.020   \n",
              "\n",
              "      free sulfur dioxide  total sulfur dioxide  density    pH  sulphates  \\\n",
              "0                    45.0                 170.0  1.00100  3.00       0.45   \n",
              "1                    14.0                 132.0  0.99400  3.30       0.49   \n",
              "2                    30.0                  97.0  0.99510  3.26       0.44   \n",
              "3                    47.0                 186.0  0.99560  3.19       0.40   \n",
              "4                    47.0                 186.0  0.99560  3.19       0.40   \n",
              "...                   ...                   ...      ...   ...        ...   \n",
              "4893                 24.0                  92.0  0.99114  3.27       0.50   \n",
              "4894                 57.0                 168.0  0.99490  3.15       0.46   \n",
              "4895                 30.0                 111.0  0.99254  2.99       0.46   \n",
              "4896                 20.0                 110.0  0.98869  3.34       0.38   \n",
              "4897                 22.0                  98.0  0.98941  3.26       0.32   \n",
              "\n",
              "      alcohol  quality  \n",
              "0         8.8        6  \n",
              "1         9.5        6  \n",
              "2        10.1        6  \n",
              "3         9.9        6  \n",
              "4         9.9        6  \n",
              "...       ...      ...  \n",
              "4893     11.2        6  \n",
              "4894      9.6        5  \n",
              "4895      9.4        6  \n",
              "4896     12.8        7  \n",
              "4897     11.8        6  \n",
              "\n",
              "[4898 rows x 12 columns]"
            ]
          },
          "execution_count": 3,
          "metadata": {},
          "output_type": "execute_result"
        }
      ],
      "source": [
        "df = pd.read_csv(csv_file, delimiter=';')\n",
        "df"
      ]
    },
    {
      "cell_type": "markdown",
      "metadata": {},
      "source": [
        "## Insert data into DEBIAI for a first step statistical analysis"
      ]
    },
    {
      "cell_type": "code",
      "execution_count": 4,
      "metadata": {},
      "outputs": [],
      "source": [
        "# Creation of the DEBIAI wine quality project block structure\n",
        "DEBIAI_block_structure = [\n",
        "    {\n",
        "        \"name\": \"sampleId\",\n",
        "        \"inputs\": [\n",
        "            { \"name\": \"fixed acidity\",           \"type\": \"number\"},\n",
        "            { \"name\": \"volatile acidity\",        \"type\": \"number\"},\n",
        "            { \"name\": \"citric acid\",             \"type\": \"number\"},\n",
        "            { \"name\": \"residual sugar\",          \"type\": \"number\"},\n",
        "            { \"name\": \"chlorides\",               \"type\": \"number\"},\n",
        "            { \"name\": \"free sulfur dioxide\",     \"type\": \"number\"},\n",
        "            { \"name\": \"total sulfur dioxide\",    \"type\": \"number\"},\n",
        "            { \"name\": \"density\",                 \"type\": \"number\"},\n",
        "            { \"name\": \"pH\",                      \"type\": \"number\"},\n",
        "            { \"name\": \"sulphates\",               \"type\": \"number\"},\n",
        "            { \"name\": \"alcohol\",                 \"type\": \"number\"},\n",
        "        ],\n",
        "        \"groundTruth\": [\n",
        "            { \"name\": \"quality\",                 \"type\": \"number\"},\n",
        "        ]\n",
        "    }\n",
        "]"
      ]
    },
    {
      "cell_type": "code",
      "execution_count": 5,
      "metadata": {},
      "outputs": [
        {
          "data": {
            "text/plain": [
              "sampleId                  int64\n",
              "fixed acidity           float64\n",
              "volatile acidity        float64\n",
              "citric acid             float64\n",
              "residual sugar          float64\n",
              "chlorides               float64\n",
              "free sulfur dioxide     float64\n",
              "total sulfur dioxide    float64\n",
              "density                 float64\n",
              "pH                      float64\n",
              "sulphates               float64\n",
              "alcohol                 float64\n",
              "quality                   int64\n",
              "dtype: object"
            ]
          },
          "execution_count": 5,
          "metadata": {},
          "output_type": "execute_result"
        }
      ],
      "source": [
        "# Add an unique value column to the dataframe\n",
        "df.insert(0, \"sampleId\", range(len(df.index)), True)\n",
        "df.dtypes"
      ]
    },
    {
      "cell_type": "markdown",
      "metadata": {},
      "source": [
        "### Insert the dataframe into DEBIAI"
      ]
    },
    {
      "cell_type": "code",
      "execution_count": 6,
      "metadata": {},
      "outputs": [],
      "source": [
        "DEBIAI_URL = 'http://localhost:3000/'\n",
        "DEBIAI_PROJECT_NAME = 'winequality demo'\n",
        "my_debiai = debiai.Debiai(DEBIAI_URL)"
      ]
    },
    {
      "cell_type": "code",
      "execution_count": 7,
      "metadata": {},
      "outputs": [
        {
          "name": "stdout",
          "output_type": "stream",
          "text": [
            "Adding the dataframe ~ sec\n",
            "Adding samples : [========================================] 100% 4898/4898  1s\n"
          ]
        },
        {
          "data": {
            "text/plain": [
              "True"
            ]
          },
          "execution_count": 7,
          "metadata": {},
          "output_type": "execute_result"
        }
      ],
      "source": [
        "# Create or recreate the project\n",
        "debiai_project = my_debiai.get_project(DEBIAI_PROJECT_NAME)\n",
        "\n",
        "if debiai_project:\n",
        "    # Deleting the project if already existing\n",
        "    my_debiai.delete_project_byId(DEBIAI_PROJECT_NAME)\n",
        "\n",
        "debiai_project = my_debiai.create_project(DEBIAI_PROJECT_NAME)\n",
        "debiai_project.set_blockstructure(DEBIAI_block_structure)\n",
        "\n",
        "# Add the dataframe\n",
        "print(\"Adding the dataframe ~ sec\")\n",
        "debiai_project.add_samples_pd(df, get_hash=False)"
      ]
    },
    {
      "cell_type": "markdown",
      "metadata": {},
      "source": [
        "The input data and the project are now ready to be analyzed into the dashboard\n",
        "\n",
        "## Statistical analysis :\n",
        "<img src=\"statAns.png\" height=\"500\">"
      ]
    },
    {
      "cell_type": "markdown",
      "metadata": {
        "id": "WWRhH6r4xxQu"
      },
      "source": [
        "# Model training\n",
        "## Load data using `tf.data.Dataset`"
      ]
    },
    {
      "cell_type": "code",
      "execution_count": 8,
      "metadata": {
        "id": "2wwhILm1ycSp"
      },
      "outputs": [],
      "source": [
        "trainingDf = df.copy()\n",
        "trainingDf.pop('sampleId')\n",
        "target = trainingDf.pop('quality')"
      ]
    },
    {
      "cell_type": "code",
      "execution_count": 9,
      "metadata": {
        "id": "W6Yc-D3aqyBb"
      },
      "outputs": [
        {
          "name": "stderr",
          "output_type": "stream",
          "text": [
            "2021-09-01 17:19:41.245673: I tensorflow/compiler/jit/xla_cpu_device.cc:41] Not creating XLA devices, tf_xla_enable_xla_devices not set\n",
            "2021-09-01 17:19:41.251452: W tensorflow/stream_executor/platform/default/dso_loader.cc:60] Could not load dynamic library 'libcuda.so.1'; dlerror: libcuda.so.1: cannot open shared object file: No such file or directory\n",
            "2021-09-01 17:19:41.254283: W tensorflow/stream_executor/cuda/cuda_driver.cc:326] failed call to cuInit: UNKNOWN ERROR (303)\n",
            "2021-09-01 17:19:41.258155: I tensorflow/stream_executor/cuda/cuda_diagnostics.cc:156] kernel driver does not appear to be running on this host (tomansion-HP-EliteBook-840-G4): /proc/driver/nvidia/version does not exist\n",
            "2021-09-01 17:19:41.283075: I tensorflow/core/platform/cpu_feature_guard.cc:142] This TensorFlow binary is optimized with oneAPI Deep Neural Network Library (oneDNN) to use the following CPU instructions in performance-critical operations:  AVX2 FMA\n",
            "To enable them in other operations, rebuild TensorFlow with the appropriate compiler flags.\n",
            "2021-09-01 17:19:41.293863: I tensorflow/compiler/jit/xla_gpu_device.cc:99] Not creating XLA devices, tf_xla_enable_xla_devices not set\n"
          ]
        }
      ],
      "source": [
        "dataset = tf.data.Dataset.from_tensor_slices((trainingDf.to_numpy(), target.values))"
      ]
    },
    {
      "cell_type": "markdown",
      "metadata": {
        "id": "9XLxRHS10Ylp"
      },
      "source": [
        "Shuffle and batch the dataset."
      ]
    },
    {
      "cell_type": "code",
      "execution_count": 10,
      "metadata": {
        "id": "R3dQ-83Ztsgl"
      },
      "outputs": [],
      "source": [
        "train_dataset = dataset.shuffle(len(trainingDf)).batch(1)"
      ]
    },
    {
      "cell_type": "markdown",
      "metadata": {
        "id": "bB9C0XJkyQEk"
      },
      "source": [
        "## Create and train two models"
      ]
    },
    {
      "cell_type": "code",
      "execution_count": 11,
      "metadata": {
        "id": "FQd9PcPRpkP4"
      },
      "outputs": [],
      "source": [
        "def get_compiled_model():\n",
        "  model = tf.keras.Sequential([\n",
        "    tf.keras.layers.Dense(10, activation='relu'),\n",
        "    tf.keras.layers.Dense(10, activation='relu'),\n",
        "    tf.keras.layers.Dense(10)\n",
        "  ])\n",
        "\n",
        "  model.compile(optimizer='adam',\n",
        "                loss=tf.keras.losses.SparseCategoricalCrossentropy(from_logits=True),\n",
        "                metrics=['accuracy'])\n",
        "  return model"
      ]
    },
    {
      "cell_type": "code",
      "execution_count": 12,
      "metadata": {
        "id": "ybDzNUheqxJw"
      },
      "outputs": [
        {
          "name": "stdout",
          "output_type": "stream",
          "text": [
            "Epoch 1/2\n"
          ]
        },
        {
          "name": "stderr",
          "output_type": "stream",
          "text": [
            "2021-09-01 17:19:42.531830: I tensorflow/compiler/mlir/mlir_graph_optimization_pass.cc:116] None of the MLIR optimization passes are enabled (registered 2)\n",
            "2021-09-01 17:19:42.559350: I tensorflow/core/platform/profile_utils/cpu_utils.cc:112] CPU Frequency: 2699905000 Hz\n"
          ]
        },
        {
          "name": "stdout",
          "output_type": "stream",
          "text": [
            "4898/4898 [==============================] - 12s 2ms/step - loss: 1.9087 - accuracy: 0.3979\n",
            "Epoch 2/2\n",
            "4898/4898 [==============================] - 19s 4ms/step - loss: 1.2968 - accuracy: 0.4478\n"
          ]
        },
        {
          "data": {
            "text/plain": [
              "<tensorflow.python.keras.callbacks.History at 0x7f829217a940>"
            ]
          },
          "execution_count": 12,
          "metadata": {},
          "output_type": "execute_result"
        }
      ],
      "source": [
        "model1 = get_compiled_model()\n",
        "model1.fit(train_dataset, epochs=2)"
      ]
    },
    {
      "cell_type": "code",
      "execution_count": 13,
      "metadata": {},
      "outputs": [
        {
          "name": "stdout",
          "output_type": "stream",
          "text": [
            "4898/4898 [==============================] - 29s 6ms/step - loss: 3.6029 - accuracy: 0.3789\n"
          ]
        },
        {
          "data": {
            "text/plain": [
              "<tensorflow.python.keras.callbacks.History at 0x7f8285ca6eb0>"
            ]
          },
          "execution_count": 13,
          "metadata": {},
          "output_type": "execute_result"
        }
      ],
      "source": [
        "model2 = get_compiled_model()\n",
        "model2.fit(train_dataset, epochs=1)"
      ]
    },
    {
      "cell_type": "code",
      "execution_count": 14,
      "metadata": {},
      "outputs": [],
      "source": [
        "from scipy.special import softmax\n",
        "\n",
        "\n",
        "def predict_from_pd(trainingDf, model):\n",
        "    inp = trainingDf.to_numpy()\n",
        "    predictions = model.predict(inp)\n",
        "\n",
        "    return pd.concat([pd.DataFrame(\n",
        "        [\n",
        "            [str(i), str(np.argmax(pred)), str(\n",
        "                round(np.max(softmax(pred)) * 100, 2))]\n",
        "        ], columns=[\"sampleId\", \"prediction\", \"percent\"])\n",
        "        for (i, pred) in enumerate(predictions)], ignore_index=True)\n"
      ]
    },
    {
      "cell_type": "code",
      "execution_count": 15,
      "metadata": {
        "tags": []
      },
      "outputs": [
        {
          "data": {
            "text/html": [
              "<div>\n",
              "<style scoped>\n",
              "    .dataframe tbody tr th:only-of-type {\n",
              "        vertical-align: middle;\n",
              "    }\n",
              "\n",
              "    .dataframe tbody tr th {\n",
              "        vertical-align: top;\n",
              "    }\n",
              "\n",
              "    .dataframe thead th {\n",
              "        text-align: right;\n",
              "    }\n",
              "</style>\n",
              "<table border=\"1\" class=\"dataframe\">\n",
              "  <thead>\n",
              "    <tr style=\"text-align: right;\">\n",
              "      <th></th>\n",
              "      <th>sampleId</th>\n",
              "      <th>prediction</th>\n",
              "      <th>percent</th>\n",
              "    </tr>\n",
              "  </thead>\n",
              "  <tbody>\n",
              "    <tr>\n",
              "      <th>0</th>\n",
              "      <td>0</td>\n",
              "      <td>5</td>\n",
              "      <td>42.71</td>\n",
              "    </tr>\n",
              "    <tr>\n",
              "      <th>1</th>\n",
              "      <td>1</td>\n",
              "      <td>5</td>\n",
              "      <td>42.07</td>\n",
              "    </tr>\n",
              "    <tr>\n",
              "      <th>2</th>\n",
              "      <td>2</td>\n",
              "      <td>6</td>\n",
              "      <td>42.16</td>\n",
              "    </tr>\n",
              "    <tr>\n",
              "      <th>3</th>\n",
              "      <td>3</td>\n",
              "      <td>6</td>\n",
              "      <td>47.41</td>\n",
              "    </tr>\n",
              "    <tr>\n",
              "      <th>4</th>\n",
              "      <td>4</td>\n",
              "      <td>6</td>\n",
              "      <td>47.41</td>\n",
              "    </tr>\n",
              "    <tr>\n",
              "      <th>...</th>\n",
              "      <td>...</td>\n",
              "      <td>...</td>\n",
              "      <td>...</td>\n",
              "    </tr>\n",
              "    <tr>\n",
              "      <th>4893</th>\n",
              "      <td>4893</td>\n",
              "      <td>6</td>\n",
              "      <td>43.54</td>\n",
              "    </tr>\n",
              "    <tr>\n",
              "      <th>4894</th>\n",
              "      <td>4894</td>\n",
              "      <td>6</td>\n",
              "      <td>40.26</td>\n",
              "    </tr>\n",
              "    <tr>\n",
              "      <th>4895</th>\n",
              "      <td>4895</td>\n",
              "      <td>6</td>\n",
              "      <td>46.38</td>\n",
              "    </tr>\n",
              "    <tr>\n",
              "      <th>4896</th>\n",
              "      <td>4896</td>\n",
              "      <td>6</td>\n",
              "      <td>47.19</td>\n",
              "    </tr>\n",
              "    <tr>\n",
              "      <th>4897</th>\n",
              "      <td>4897</td>\n",
              "      <td>6</td>\n",
              "      <td>45.34</td>\n",
              "    </tr>\n",
              "  </tbody>\n",
              "</table>\n",
              "<p>4898 rows × 3 columns</p>\n",
              "</div>"
            ],
            "text/plain": [
              "     sampleId prediction percent\n",
              "0           0          5   42.71\n",
              "1           1          5   42.07\n",
              "2           2          6   42.16\n",
              "3           3          6   47.41\n",
              "4           4          6   47.41\n",
              "...       ...        ...     ...\n",
              "4893     4893          6   43.54\n",
              "4894     4894          6   40.26\n",
              "4895     4895          6   46.38\n",
              "4896     4896          6   47.19\n",
              "4897     4897          6   45.34\n",
              "\n",
              "[4898 rows x 3 columns]"
            ]
          },
          "execution_count": 15,
          "metadata": {},
          "output_type": "execute_result"
        }
      ],
      "source": [
        "results1 = predict_from_pd(trainingDf, model1)\n",
        "results1"
      ]
    },
    {
      "cell_type": "code",
      "execution_count": 16,
      "metadata": {},
      "outputs": [
        {
          "data": {
            "text/html": [
              "<div>\n",
              "<style scoped>\n",
              "    .dataframe tbody tr th:only-of-type {\n",
              "        vertical-align: middle;\n",
              "    }\n",
              "\n",
              "    .dataframe tbody tr th {\n",
              "        vertical-align: top;\n",
              "    }\n",
              "\n",
              "    .dataframe thead th {\n",
              "        text-align: right;\n",
              "    }\n",
              "</style>\n",
              "<table border=\"1\" class=\"dataframe\">\n",
              "  <thead>\n",
              "    <tr style=\"text-align: right;\">\n",
              "      <th></th>\n",
              "      <th>sampleId</th>\n",
              "      <th>prediction</th>\n",
              "      <th>percent</th>\n",
              "    </tr>\n",
              "  </thead>\n",
              "  <tbody>\n",
              "    <tr>\n",
              "      <th>0</th>\n",
              "      <td>0</td>\n",
              "      <td>5</td>\n",
              "      <td>68.85</td>\n",
              "    </tr>\n",
              "    <tr>\n",
              "      <th>1</th>\n",
              "      <td>1</td>\n",
              "      <td>5</td>\n",
              "      <td>48.29</td>\n",
              "    </tr>\n",
              "    <tr>\n",
              "      <th>2</th>\n",
              "      <td>2</td>\n",
              "      <td>5</td>\n",
              "      <td>31.46</td>\n",
              "    </tr>\n",
              "    <tr>\n",
              "      <th>3</th>\n",
              "      <td>3</td>\n",
              "      <td>5</td>\n",
              "      <td>66.77</td>\n",
              "    </tr>\n",
              "    <tr>\n",
              "      <th>4</th>\n",
              "      <td>4</td>\n",
              "      <td>5</td>\n",
              "      <td>66.77</td>\n",
              "    </tr>\n",
              "    <tr>\n",
              "      <th>...</th>\n",
              "      <td>...</td>\n",
              "      <td>...</td>\n",
              "      <td>...</td>\n",
              "    </tr>\n",
              "    <tr>\n",
              "      <th>4893</th>\n",
              "      <td>4893</td>\n",
              "      <td>6</td>\n",
              "      <td>30.23</td>\n",
              "    </tr>\n",
              "    <tr>\n",
              "      <th>4894</th>\n",
              "      <td>4894</td>\n",
              "      <td>5</td>\n",
              "      <td>61.78</td>\n",
              "    </tr>\n",
              "    <tr>\n",
              "      <th>4895</th>\n",
              "      <td>4895</td>\n",
              "      <td>5</td>\n",
              "      <td>35.39</td>\n",
              "    </tr>\n",
              "    <tr>\n",
              "      <th>4896</th>\n",
              "      <td>4896</td>\n",
              "      <td>5</td>\n",
              "      <td>34.63</td>\n",
              "    </tr>\n",
              "    <tr>\n",
              "      <th>4897</th>\n",
              "      <td>4897</td>\n",
              "      <td>5</td>\n",
              "      <td>29.55</td>\n",
              "    </tr>\n",
              "  </tbody>\n",
              "</table>\n",
              "<p>4898 rows × 3 columns</p>\n",
              "</div>"
            ],
            "text/plain": [
              "     sampleId prediction percent\n",
              "0           0          5   68.85\n",
              "1           1          5   48.29\n",
              "2           2          5   31.46\n",
              "3           3          5   66.77\n",
              "4           4          5   66.77\n",
              "...       ...        ...     ...\n",
              "4893     4893          6   30.23\n",
              "4894     4894          5   61.78\n",
              "4895     4895          5   35.39\n",
              "4896     4896          5   34.63\n",
              "4897     4897          5   29.55\n",
              "\n",
              "[4898 rows x 3 columns]"
            ]
          },
          "execution_count": 16,
          "metadata": {},
          "output_type": "execute_result"
        }
      ],
      "source": [
        "results2 = predict_from_pd(trainingDf, model2)\n",
        "results2"
      ]
    },
    {
      "cell_type": "markdown",
      "metadata": {},
      "source": [
        "## Insert the model results into DEBIAI for a results statistical analysis"
      ]
    },
    {
      "cell_type": "code",
      "execution_count": 17,
      "metadata": {},
      "outputs": [],
      "source": [
        "# debiai_project.delete_model(\"Model 2e\")\n",
        "# debiai_project.delete_model(\"Model 4e\")"
      ]
    },
    {
      "cell_type": "code",
      "execution_count": 18,
      "metadata": {},
      "outputs": [
        {
          "name": "stdout",
          "output_type": "stream",
          "text": [
            "Adding results : [========================================] 100% 4898/4898 Model 2e 6s\n",
            "Adding results : [========================================] 100% 4898/4898 Model 4e 1s\n"
          ]
        },
        {
          "data": {
            "text/plain": [
              "{}"
            ]
          },
          "execution_count": 18,
          "metadata": {},
          "output_type": "execute_result"
        }
      ],
      "source": [
        "# Creating the two DEBIAI models\n",
        "DEBIAI_model_name1 = \"Model 2e\"\n",
        "DEBIAI_model_name2 = \"Model 4e\"\n",
        "debiai_model1 = debiai_project.create_model(DEBIAI_model_name1)\n",
        "debiai_model2 = debiai_project.create_model(DEBIAI_model_name2)\n",
        "\n",
        "# Set the DEBIAI expected_results structure.\n",
        "DEBIAI_result_struct = [\n",
        "    { \"name\": \"prediction\", \"type\": \"number\" },\n",
        "    { \"name\": \"percent\",    \"type\": \"number\" }\n",
        "]\n",
        "\n",
        "debiai_project.set_expected_results(DEBIAI_result_struct)\n",
        "\n",
        "# Add the model results\n",
        "debiai_model1.add_results_df(results1)\n",
        "debiai_model2.add_results_df(results2)"
      ]
    },
    {
      "cell_type": "markdown",
      "metadata": {},
      "source": [
        "The model results should now appear on the dashboard\n",
        "\n",
        "## model performance analysis\n",
        "\n",
        "<img src=\"resAns.png\" height=\"500\">\n",
        "\n",
        "  \n",
        "# DEBIAI dataset generation \n",
        "\n",
        "Generation of a smaller less biased dataset based on the last models errors with the dashboard.\n",
        "\n",
        "<img src=\"newDataset.png\" height=\"200\">"
      ]
    },
    {
      "cell_type": "code",
      "execution_count": 19,
      "metadata": {},
      "outputs": [
        {
          "data": {
            "text/plain": [
              "[]"
            ]
          },
          "execution_count": 19,
          "metadata": {},
          "output_type": "execute_result"
        }
      ],
      "source": [
        "debiai_project = my_debiai.get_project('winequality demo')\n",
        "debiai_project.get_selections()"
      ]
    },
    {
      "cell_type": "code",
      "execution_count": 22,
      "metadata": {},
      "outputs": [
        {
          "data": {
            "text/plain": [
              "DEBIAI selection : 'less biased'\n",
              "creation date : '2021-09-01 17:23:13'\n",
              "number of samples  : '2700'"
            ]
          },
          "execution_count": 22,
          "metadata": {},
          "output_type": "execute_result"
        }
      ],
      "source": [
        "selection = debiai_project.get_selection('less biased')\n",
        "selection"
      ]
    },
    {
      "cell_type": "code",
      "execution_count": 23,
      "metadata": {},
      "outputs": [
        {
          "name": "stdout",
          "output_type": "stream",
          "text": [
            "      sampleId  fixed acidity  volatile acidity  citric acid  residual sugar  \\\n",
            "0          762            6.8              0.24         0.49           19.30   \n",
            "1          607            7.3              0.25         0.29            7.50   \n",
            "2         4645            5.0              0.24         0.34            1.10   \n",
            "3         1179            7.2              0.20         0.25            4.50   \n",
            "4         3528            6.9              0.75         0.13            6.30   \n",
            "...        ...            ...               ...          ...             ...   \n",
            "2695      4710            5.4              0.33         0.31            4.00   \n",
            "2696       283            6.7              0.34         0.30           15.60   \n",
            "2697      2178            7.6              0.32         0.58           16.75   \n",
            "2698      4096            8.0              0.25         0.35            1.10   \n",
            "2699      2813            5.8              0.32         0.31            2.70   \n",
            "\n",
            "      chlorides  free sulfur dioxide  total sulfur dioxide  density    pH  \\\n",
            "0         0.057                 55.0                 247.0  1.00055  3.00   \n",
            "1         0.049                 38.0                 158.0  0.99650  3.43   \n",
            "2         0.034                 49.0                 158.0  0.98774  3.32   \n",
            "3         0.044                 31.0                 109.0  0.99490  3.23   \n",
            "4         0.036                 19.0                  50.0  0.99312  3.09   \n",
            "...         ...                  ...                   ...      ...   ...   \n",
            "2695      0.030                 27.0                 108.0  0.99031  3.30   \n",
            "2696      0.054                 51.0                 196.0  0.99820  3.19   \n",
            "2697      0.050                 43.0                 163.0  0.99990  3.15   \n",
            "2698      0.054                 13.0                 136.0  0.99366  3.08   \n",
            "2699      0.049                 25.0                 153.0  0.99067  3.44   \n",
            "\n",
            "      sulphates  alcohol  quality  \n",
            "0          0.56      8.7        5  \n",
            "1          0.38      9.6        5  \n",
            "2          0.32     13.1        7  \n",
            "3          0.36      9.4        5  \n",
            "4          0.25     11.1        4  \n",
            "...         ...      ...      ...  \n",
            "2695       0.43     12.2        7  \n",
            "2696       0.49      9.3        5  \n",
            "2697       0.54      9.2        5  \n",
            "2698       0.55      9.5        5  \n",
            "2699       0.73     12.2        7  \n",
            "\n",
            "[2700 rows x 13 columns]\n",
            "sampleId                  int64\n",
            "fixed acidity           float64\n",
            "volatile acidity        float64\n",
            "citric acid             float64\n",
            "residual sugar          float64\n",
            "chlorides               float64\n",
            "free sulfur dioxide     float64\n",
            "total sulfur dioxide    float64\n",
            "density                 float64\n",
            "pH                      float64\n",
            "sulphates               float64\n",
            "alcohol                 float64\n",
            "quality                   int64\n",
            "dtype: object\n"
          ]
        }
      ],
      "source": [
        "# Loading the selection as a dataframe\n",
        "selection_df = selection.get_dataframe()\n",
        "print(selection_df)\n",
        "print(selection_df.dtypes)\n",
        "\n",
        "selection_df.pop('sampleId')\n",
        "target = selection_df.pop('quality')\n",
        "dataset2 = tf.data.Dataset.from_tensor_slices((selection_df.to_numpy(), target.values))\n",
        "train_dataset2 = dataset2.shuffle(len(selection_df)).batch(1)"
      ]
    },
    {
      "cell_type": "code",
      "execution_count": 24,
      "metadata": {},
      "outputs": [
        {
          "name": "stdout",
          "output_type": "stream",
          "text": [
            "Epoch 1/2\n",
            "2700/2700 [==============================] - 17s 6ms/step - loss: 3.6024 - accuracy: 0.4870\n",
            "Epoch 2/2\n",
            "2700/2700 [==============================] - 17s 6ms/step - loss: 1.1993 - accuracy: 0.5758\n"
          ]
        },
        {
          "data": {
            "text/plain": [
              "<tensorflow.python.keras.callbacks.History at 0x7f8285c982e0>"
            ]
          },
          "execution_count": 24,
          "metadata": {},
          "output_type": "execute_result"
        }
      ],
      "source": [
        "model3 = get_compiled_model()\n",
        "model3.fit(train_dataset2, epochs=2)"
      ]
    },
    {
      "cell_type": "code",
      "execution_count": 25,
      "metadata": {},
      "outputs": [
        {
          "name": "stdout",
          "output_type": "stream",
          "text": [
            "Epoch 1/4\n",
            "2700/2700 [==============================] - 17s 6ms/step - loss: 8.7004 - accuracy: 0.3792\n",
            "Epoch 2/4\n",
            "2700/2700 [==============================] - 15s 6ms/step - loss: 1.1423 - accuracy: 0.5606\n",
            "Epoch 3/4\n",
            "2700/2700 [==============================] - 15s 5ms/step - loss: 1.0871 - accuracy: 0.5959\n",
            "Epoch 4/4\n",
            "2700/2700 [==============================] - 15s 6ms/step - loss: 1.0520 - accuracy: 0.6064\n"
          ]
        },
        {
          "data": {
            "text/plain": [
              "<tensorflow.python.keras.callbacks.History at 0x7f8278bc1e80>"
            ]
          },
          "execution_count": 25,
          "metadata": {},
          "output_type": "execute_result"
        }
      ],
      "source": [
        "model4 = get_compiled_model()\n",
        "model4.fit(train_dataset2, epochs=4)"
      ]
    },
    {
      "cell_type": "code",
      "execution_count": 26,
      "metadata": {},
      "outputs": [
        {
          "data": {
            "text/html": [
              "<div>\n",
              "<style scoped>\n",
              "    .dataframe tbody tr th:only-of-type {\n",
              "        vertical-align: middle;\n",
              "    }\n",
              "\n",
              "    .dataframe tbody tr th {\n",
              "        vertical-align: top;\n",
              "    }\n",
              "\n",
              "    .dataframe thead th {\n",
              "        text-align: right;\n",
              "    }\n",
              "</style>\n",
              "<table border=\"1\" class=\"dataframe\">\n",
              "  <thead>\n",
              "    <tr style=\"text-align: right;\">\n",
              "      <th></th>\n",
              "      <th>sampleId</th>\n",
              "      <th>prediction</th>\n",
              "      <th>percent</th>\n",
              "    </tr>\n",
              "  </thead>\n",
              "  <tbody>\n",
              "    <tr>\n",
              "      <th>0</th>\n",
              "      <td>0</td>\n",
              "      <td>5</td>\n",
              "      <td>70.25</td>\n",
              "    </tr>\n",
              "    <tr>\n",
              "      <th>1</th>\n",
              "      <td>1</td>\n",
              "      <td>5</td>\n",
              "      <td>56.78</td>\n",
              "    </tr>\n",
              "    <tr>\n",
              "      <th>2</th>\n",
              "      <td>2</td>\n",
              "      <td>7</td>\n",
              "      <td>60.73</td>\n",
              "    </tr>\n",
              "    <tr>\n",
              "      <th>3</th>\n",
              "      <td>3</td>\n",
              "      <td>5</td>\n",
              "      <td>67.82</td>\n",
              "    </tr>\n",
              "    <tr>\n",
              "      <th>4</th>\n",
              "      <td>4</td>\n",
              "      <td>5</td>\n",
              "      <td>67.82</td>\n",
              "    </tr>\n",
              "    <tr>\n",
              "      <th>...</th>\n",
              "      <td>...</td>\n",
              "      <td>...</td>\n",
              "      <td>...</td>\n",
              "    </tr>\n",
              "    <tr>\n",
              "      <th>4893</th>\n",
              "      <td>4893</td>\n",
              "      <td>7</td>\n",
              "      <td>66.23</td>\n",
              "    </tr>\n",
              "    <tr>\n",
              "      <th>4894</th>\n",
              "      <td>4894</td>\n",
              "      <td>7</td>\n",
              "      <td>53.88</td>\n",
              "    </tr>\n",
              "    <tr>\n",
              "      <th>4895</th>\n",
              "      <td>4895</td>\n",
              "      <td>7</td>\n",
              "      <td>55.82</td>\n",
              "    </tr>\n",
              "    <tr>\n",
              "      <th>4896</th>\n",
              "      <td>4896</td>\n",
              "      <td>7</td>\n",
              "      <td>57.96</td>\n",
              "    </tr>\n",
              "    <tr>\n",
              "      <th>4897</th>\n",
              "      <td>4897</td>\n",
              "      <td>7</td>\n",
              "      <td>63.33</td>\n",
              "    </tr>\n",
              "  </tbody>\n",
              "</table>\n",
              "<p>4898 rows × 3 columns</p>\n",
              "</div>"
            ],
            "text/plain": [
              "     sampleId prediction percent\n",
              "0           0          5   70.25\n",
              "1           1          5   56.78\n",
              "2           2          7   60.73\n",
              "3           3          5   67.82\n",
              "4           4          5   67.82\n",
              "...       ...        ...     ...\n",
              "4893     4893          7   66.23\n",
              "4894     4894          7   53.88\n",
              "4895     4895          7   55.82\n",
              "4896     4896          7   57.96\n",
              "4897     4897          7   63.33\n",
              "\n",
              "[4898 rows x 3 columns]"
            ]
          },
          "execution_count": 26,
          "metadata": {},
          "output_type": "execute_result"
        }
      ],
      "source": [
        "results3 = predict_from_pd(trainingDf, model3)\n",
        "results3"
      ]
    },
    {
      "cell_type": "code",
      "execution_count": 27,
      "metadata": {},
      "outputs": [
        {
          "data": {
            "text/html": [
              "<div>\n",
              "<style scoped>\n",
              "    .dataframe tbody tr th:only-of-type {\n",
              "        vertical-align: middle;\n",
              "    }\n",
              "\n",
              "    .dataframe tbody tr th {\n",
              "        vertical-align: top;\n",
              "    }\n",
              "\n",
              "    .dataframe thead th {\n",
              "        text-align: right;\n",
              "    }\n",
              "</style>\n",
              "<table border=\"1\" class=\"dataframe\">\n",
              "  <thead>\n",
              "    <tr style=\"text-align: right;\">\n",
              "      <th></th>\n",
              "      <th>sampleId</th>\n",
              "      <th>prediction</th>\n",
              "      <th>percent</th>\n",
              "    </tr>\n",
              "  </thead>\n",
              "  <tbody>\n",
              "    <tr>\n",
              "      <th>0</th>\n",
              "      <td>0</td>\n",
              "      <td>5</td>\n",
              "      <td>67.34</td>\n",
              "    </tr>\n",
              "    <tr>\n",
              "      <th>1</th>\n",
              "      <td>1</td>\n",
              "      <td>5</td>\n",
              "      <td>50.2</td>\n",
              "    </tr>\n",
              "    <tr>\n",
              "      <th>2</th>\n",
              "      <td>2</td>\n",
              "      <td>7</td>\n",
              "      <td>41.7</td>\n",
              "    </tr>\n",
              "    <tr>\n",
              "      <th>3</th>\n",
              "      <td>3</td>\n",
              "      <td>5</td>\n",
              "      <td>63.06</td>\n",
              "    </tr>\n",
              "    <tr>\n",
              "      <th>4</th>\n",
              "      <td>4</td>\n",
              "      <td>5</td>\n",
              "      <td>63.06</td>\n",
              "    </tr>\n",
              "    <tr>\n",
              "      <th>...</th>\n",
              "      <td>...</td>\n",
              "      <td>...</td>\n",
              "      <td>...</td>\n",
              "    </tr>\n",
              "    <tr>\n",
              "      <th>4893</th>\n",
              "      <td>4893</td>\n",
              "      <td>7</td>\n",
              "      <td>53.32</td>\n",
              "    </tr>\n",
              "    <tr>\n",
              "      <th>4894</th>\n",
              "      <td>4894</td>\n",
              "      <td>5</td>\n",
              "      <td>43.79</td>\n",
              "    </tr>\n",
              "    <tr>\n",
              "      <th>4895</th>\n",
              "      <td>4895</td>\n",
              "      <td>7</td>\n",
              "      <td>39.49</td>\n",
              "    </tr>\n",
              "    <tr>\n",
              "      <th>4896</th>\n",
              "      <td>4896</td>\n",
              "      <td>7</td>\n",
              "      <td>53.52</td>\n",
              "    </tr>\n",
              "    <tr>\n",
              "      <th>4897</th>\n",
              "      <td>4897</td>\n",
              "      <td>7</td>\n",
              "      <td>52.99</td>\n",
              "    </tr>\n",
              "  </tbody>\n",
              "</table>\n",
              "<p>4898 rows × 3 columns</p>\n",
              "</div>"
            ],
            "text/plain": [
              "     sampleId prediction percent\n",
              "0           0          5   67.34\n",
              "1           1          5    50.2\n",
              "2           2          7    41.7\n",
              "3           3          5   63.06\n",
              "4           4          5   63.06\n",
              "...       ...        ...     ...\n",
              "4893     4893          7   53.32\n",
              "4894     4894          5   43.79\n",
              "4895     4895          7   39.49\n",
              "4896     4896          7   53.52\n",
              "4897     4897          7   52.99\n",
              "\n",
              "[4898 rows x 3 columns]"
            ]
          },
          "execution_count": 27,
          "metadata": {},
          "output_type": "execute_result"
        }
      ],
      "source": [
        "results4 = predict_from_pd(trainingDf, model4)\n",
        "results4"
      ]
    },
    {
      "cell_type": "code",
      "execution_count": 28,
      "metadata": {},
      "outputs": [
        {
          "name": "stdout",
          "output_type": "stream",
          "text": [
            "Adding results : [========================================] 100% 4898/4898 Model LB 2e 0s\n",
            "Adding results : [========================================] 100% 4898/4898 Model LB 4e 1s\n"
          ]
        },
        {
          "data": {
            "text/plain": [
              "{}"
            ]
          },
          "execution_count": 28,
          "metadata": {},
          "output_type": "execute_result"
        }
      ],
      "source": [
        "# Creating the two DEBIAI models\n",
        "DEBIAI_model_name3 = \"Model LB 2e\"\n",
        "DEBIAI_model_name4 = \"Model LB 4e\"\n",
        "debiai_model3 = debiai_project.create_model(DEBIAI_model_name3)\n",
        "debiai_model4 = debiai_project.create_model(DEBIAI_model_name4)\n",
        "\n",
        "# Add the model results\n",
        "debiai_model3.add_results_df(results3)\n",
        "debiai_model4.add_results_df(results4)"
      ]
    },
    {
      "cell_type": "markdown",
      "metadata": {},
      "source": [
        "The new model results should now appear on the dashboard\n",
        "\n",
        "## Second model performance analysis\n",
        "\n",
        "<img src=\"resAns2.png\" height=\"500\">\n"
      ]
    },
    {
      "cell_type": "markdown",
      "metadata": {},
      "source": [
        "# Training on a dataset directly from the DEBIAI selection"
      ]
    },
    {
      "cell_type": "code",
      "execution_count": 29,
      "metadata": {},
      "outputs": [],
      "source": [
        "train_dataset_imported = selection.get_tf_dataset()"
      ]
    },
    {
      "cell_type": "code",
      "execution_count": 30,
      "metadata": {},
      "outputs": [
        {
          "name": "stdout",
          "output_type": "stream",
          "text": [
            "Epoch 1/15\n",
            "0/2700\n",
            "1000/2700\n",
            "      1/Unknown - 8s 8s/step - loss: 3.9518 - accuracy: 0.0000e+002000/2700\n",
            "2700/2700 [==============================] - 23s 6ms/step - loss: 2.0599 - accuracy: 0.5732\n",
            "Epoch 2/15\n",
            "0/2700\n",
            "1000/2700\n",
            "   1/2700 [..............................] - ETA: 4:22:29 - loss: 1.1415 - accuracy: 0.0000e+002000/2700\n",
            "2700/2700 [==============================] - 22s 6ms/step - loss: 1.0405 - accuracy: 0.6189\n",
            "Epoch 3/15\n",
            "0/2700\n",
            "1000/2700\n",
            "   1/2700 [..............................] - ETA: 4:28:44 - loss: 0.5108 - accuracy: 1.00002000/2700\n",
            "2700/2700 [==============================] - 22s 6ms/step - loss: 1.0484 - accuracy: 0.6190\n",
            "Epoch 4/15\n",
            "0/2700\n",
            "1000/2700\n",
            "   1/2700 [..............................] - ETA: 4:02:55 - loss: 0.2750 - accuracy: 1.00002000/2700\n",
            "2700/2700 [==============================] - 21s 6ms/step - loss: 1.0067 - accuracy: 0.6296\n",
            "Epoch 5/15\n",
            "0/2700\n",
            "1000/2700\n",
            "   1/2700 [..............................] - ETA: 3:54:50 - loss: 0.4753 - accuracy: 1.00002000/2700\n",
            "2700/2700 [==============================] - 21s 6ms/step - loss: 0.9947 - accuracy: 0.6388\n",
            "Epoch 6/15\n",
            "0/2700\n",
            "1000/2700\n",
            "   1/2700 [..............................] - ETA: 3:58:35 - loss: 0.3969 - accuracy: 1.00002000/2700\n",
            "2700/2700 [==============================] - 20s 6ms/step - loss: 0.9541 - accuracy: 0.6531\n",
            "Epoch 7/15\n",
            "0/2700\n",
            "1000/2700\n",
            "   1/2700 [..............................] - ETA: 4:10:41 - loss: 0.2046 - accuracy: 1.00002000/2700\n",
            "2700/2700 [==============================] - 21s 6ms/step - loss: 0.9107 - accuracy: 0.6737\n",
            "Epoch 8/15\n",
            "0/2700\n",
            "1000/2700\n",
            "   1/2700 [..............................] - ETA: 3:56:42 - loss: 2.5688 - accuracy: 0.0000e+002000/2700\n",
            "2700/2700 [==============================] - 21s 6ms/step - loss: 0.8789 - accuracy: 0.7002\n",
            "Epoch 9/15\n",
            "0/2700\n",
            "1000/2700\n",
            "   1/2700 [..............................] - ETA: 3:52:38 - loss: 0.6370 - accuracy: 1.00002000/2700\n",
            "2700/2700 [==============================] - 20s 6ms/step - loss: 0.9123 - accuracy: 0.6745\n",
            "Epoch 10/15\n",
            "0/2700\n",
            "1000/2700\n",
            "   1/2700 [..............................] - ETA: 4:18:06 - loss: 1.6885 - accuracy: 0.0000e+002000/2700\n",
            "2700/2700 [==============================] - 21s 6ms/step - loss: 0.8670 - accuracy: 0.6929\n",
            "Epoch 11/15\n",
            "0/2700\n",
            "1000/2700\n",
            "   1/2700 [..............................] - ETA: 3:57:12 - loss: 0.2480 - accuracy: 1.00002000/2700\n",
            "2700/2700 [==============================] - 20s 6ms/step - loss: 0.8552 - accuracy: 0.6887\n",
            "Epoch 12/15\n",
            "0/2700\n",
            "1000/2700\n",
            "   1/2700 [..............................] - ETA: 4:08:38 - loss: 0.6157 - accuracy: 1.00002000/2700\n",
            "2700/2700 [==============================] - 21s 6ms/step - loss: 0.8610 - accuracy: 0.6893\n",
            "Epoch 13/15\n",
            "0/2700\n",
            "1000/2700\n",
            "   1/2700 [..............................] - ETA: 4:12:25 - loss: 0.4812 - accuracy: 1.00002000/2700\n",
            "2700/2700 [==============================] - 20s 5ms/step - loss: 0.8389 - accuracy: 0.7055\n",
            "Epoch 14/15\n",
            "0/2700\n",
            "1000/2700\n",
            "   1/2700 [..............................] - ETA: 4:00:07 - loss: 0.6185 - accuracy: 1.00002000/2700\n",
            "2700/2700 [==============================] - 21s 6ms/step - loss: 0.8546 - accuracy: 0.6994\n",
            "Epoch 15/15\n",
            "0/2700\n",
            "1000/2700\n",
            "   1/2700 [..............................] - ETA: 4:30:05 - loss: 0.1135 - accuracy: 1.00002000/2700\n",
            "2700/2700 [==============================] - 20s 5ms/step - loss: 0.8377 - accuracy: 0.6978\n"
          ]
        },
        {
          "data": {
            "text/plain": [
              "<tensorflow.python.keras.callbacks.History at 0x7f8278e1e910>"
            ]
          },
          "execution_count": 30,
          "metadata": {},
          "output_type": "execute_result"
        }
      ],
      "source": [
        "train_dataset_imported = train_dataset_imported.shuffle(selection.nbSamples).batch(1)\n",
        "\n",
        "model5 = get_compiled_model()\n",
        "model5.fit(train_dataset_imported, epochs=15)"
      ]
    },
    {
      "cell_type": "code",
      "execution_count": 31,
      "metadata": {},
      "outputs": [
        {
          "data": {
            "text/html": [
              "<div>\n",
              "<style scoped>\n",
              "    .dataframe tbody tr th:only-of-type {\n",
              "        vertical-align: middle;\n",
              "    }\n",
              "\n",
              "    .dataframe tbody tr th {\n",
              "        vertical-align: top;\n",
              "    }\n",
              "\n",
              "    .dataframe thead th {\n",
              "        text-align: right;\n",
              "    }\n",
              "</style>\n",
              "<table border=\"1\" class=\"dataframe\">\n",
              "  <thead>\n",
              "    <tr style=\"text-align: right;\">\n",
              "      <th></th>\n",
              "      <th>sampleId</th>\n",
              "      <th>prediction</th>\n",
              "      <th>percent</th>\n",
              "    </tr>\n",
              "  </thead>\n",
              "  <tbody>\n",
              "    <tr>\n",
              "      <th>0</th>\n",
              "      <td>0</td>\n",
              "      <td>5</td>\n",
              "      <td>81.54</td>\n",
              "    </tr>\n",
              "    <tr>\n",
              "      <th>1</th>\n",
              "      <td>1</td>\n",
              "      <td>5</td>\n",
              "      <td>70.24</td>\n",
              "    </tr>\n",
              "    <tr>\n",
              "      <th>2</th>\n",
              "      <td>2</td>\n",
              "      <td>7</td>\n",
              "      <td>49.05</td>\n",
              "    </tr>\n",
              "    <tr>\n",
              "      <th>3</th>\n",
              "      <td>3</td>\n",
              "      <td>5</td>\n",
              "      <td>81.36</td>\n",
              "    </tr>\n",
              "    <tr>\n",
              "      <th>4</th>\n",
              "      <td>4</td>\n",
              "      <td>5</td>\n",
              "      <td>81.36</td>\n",
              "    </tr>\n",
              "    <tr>\n",
              "      <th>...</th>\n",
              "      <td>...</td>\n",
              "      <td>...</td>\n",
              "      <td>...</td>\n",
              "    </tr>\n",
              "    <tr>\n",
              "      <th>4893</th>\n",
              "      <td>4893</td>\n",
              "      <td>7</td>\n",
              "      <td>70.45</td>\n",
              "    </tr>\n",
              "    <tr>\n",
              "      <th>4894</th>\n",
              "      <td>4894</td>\n",
              "      <td>5</td>\n",
              "      <td>73.3</td>\n",
              "    </tr>\n",
              "    <tr>\n",
              "      <th>4895</th>\n",
              "      <td>4895</td>\n",
              "      <td>7</td>\n",
              "      <td>44.38</td>\n",
              "    </tr>\n",
              "    <tr>\n",
              "      <th>4896</th>\n",
              "      <td>4896</td>\n",
              "      <td>7</td>\n",
              "      <td>76.55</td>\n",
              "    </tr>\n",
              "    <tr>\n",
              "      <th>4897</th>\n",
              "      <td>4897</td>\n",
              "      <td>7</td>\n",
              "      <td>72.71</td>\n",
              "    </tr>\n",
              "  </tbody>\n",
              "</table>\n",
              "<p>4898 rows × 3 columns</p>\n",
              "</div>"
            ],
            "text/plain": [
              "     sampleId prediction percent\n",
              "0           0          5   81.54\n",
              "1           1          5   70.24\n",
              "2           2          7   49.05\n",
              "3           3          5   81.36\n",
              "4           4          5   81.36\n",
              "...       ...        ...     ...\n",
              "4893     4893          7   70.45\n",
              "4894     4894          5    73.3\n",
              "4895     4895          7   44.38\n",
              "4896     4896          7   76.55\n",
              "4897     4897          7   72.71\n",
              "\n",
              "[4898 rows x 3 columns]"
            ]
          },
          "execution_count": 31,
          "metadata": {},
          "output_type": "execute_result"
        }
      ],
      "source": [
        "results5 = predict_from_pd(trainingDf, model5)\n",
        "results5"
      ]
    },
    {
      "cell_type": "code",
      "execution_count": 32,
      "metadata": {},
      "outputs": [
        {
          "name": "stdout",
          "output_type": "stream",
          "text": [
            "Adding results : [========================================] 100% 4898/4898 Model LB 15e 3s\n"
          ]
        },
        {
          "data": {
            "text/plain": [
              "{}"
            ]
          },
          "execution_count": 32,
          "metadata": {},
          "output_type": "execute_result"
        }
      ],
      "source": [
        "# Creating the last DEBIAI model\n",
        "DEBIAI_model_name3 = \"Model LB 2e\"\n",
        "debiai_model5 = debiai_project.create_model(\"Model LB 15e\")\n",
        "\n",
        "# Add the model results\n",
        "debiai_model5.add_results_df(results5)"
      ]
    },
    {
      "cell_type": "code",
      "execution_count": null,
      "metadata": {},
      "outputs": [],
      "source": []
    }
  ],
  "metadata": {
    "colab": {
      "collapsed_sections": [],
      "name": "pandas_dataframe.ipynb",
      "provenance": [],
      "toc_visible": true
    },
    "interpreter": {
      "hash": "31f2aee4e71d21fbe5cf8b01ff0e069b9275f58929596ceb00d14d90e3e16cd6"
    },
    "kernelspec": {
      "display_name": "Python 3.8.10 64-bit",
      "name": "python3"
    },
    "language_info": {
      "codemirror_mode": {
        "name": "ipython",
        "version": 3
      },
      "file_extension": ".py",
      "mimetype": "text/x-python",
      "name": "python",
      "nbconvert_exporter": "python",
      "pygments_lexer": "ipython3",
      "version": "3.8.10"
    }
  },
  "nbformat": 4,
  "nbformat_minor": 2
}
