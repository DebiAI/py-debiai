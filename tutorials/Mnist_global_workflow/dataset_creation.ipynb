{
 "cells": [
  {
   "cell_type": "markdown",
   "source": [
    "# Dataset creation for the tutorial"
   ],
   "metadata": {}
  },
  {
   "cell_type": "code",
   "execution_count": 1,
   "source": [
    "# System modules\n",
    "import os\n",
    "import pathlib\n",
    "\n",
    "# Tensorflow modules\n",
    "import tensorflow as tf\n",
    "import tensorflow_datasets as tfds\n",
    "\n",
    "# Math modules\n",
    "import numpy as np\n",
    "import scipy\n",
    "\n",
    "# Image modules\n",
    "import PIL\n",
    "import PIL.Image\n",
    "from skimage.transform import resize"
   ],
   "outputs": [
    {
     "output_type": "error",
     "ename": "ModuleNotFoundError",
     "evalue": "No module named 'skimage'",
     "traceback": [
      "\u001b[0;31m---------------------------------------------------\u001b[0m",
      "\u001b[0;31mModuleNotFoundError\u001b[0mTraceback (most recent call last)",
      "\u001b[0;32m<ipython-input-1-7bcd53063b27>\u001b[0m in \u001b[0;36m<module>\u001b[0;34m\u001b[0m\n\u001b[1;32m     14\u001b[0m \u001b[0;32mimport\u001b[0m \u001b[0mPIL\u001b[0m\u001b[0;34m\u001b[0m\u001b[0;34m\u001b[0m\u001b[0m\n\u001b[1;32m     15\u001b[0m \u001b[0;32mimport\u001b[0m \u001b[0mPIL\u001b[0m\u001b[0;34m.\u001b[0m\u001b[0mImage\u001b[0m\u001b[0;34m\u001b[0m\u001b[0;34m\u001b[0m\u001b[0m\n\u001b[0;32m---> 16\u001b[0;31m \u001b[0;32mfrom\u001b[0m \u001b[0mskimage\u001b[0m\u001b[0;34m.\u001b[0m\u001b[0mtransform\u001b[0m \u001b[0;32mimport\u001b[0m \u001b[0mresize\u001b[0m\u001b[0;34m\u001b[0m\u001b[0;34m\u001b[0m\u001b[0m\n\u001b[0m",
      "\u001b[0;31mModuleNotFoundError\u001b[0m: No module named 'skimage'"
     ]
    }
   ],
   "metadata": {}
  },
  {
   "cell_type": "markdown",
   "source": [
    "### Load MNIST dataset"
   ],
   "metadata": {}
  },
  {
   "cell_type": "markdown",
   "source": [
    "####  Here is a link to download MNIST_M dataset\n",
    "[MNIST_M Dataset](https://drive.google.com/file/d/0B9Z4d7lAwbnTNDdNeFlERWRGNVk/view)"
   ],
   "metadata": {}
  },
  {
   "cell_type": "code",
   "execution_count": 18,
   "source": [
    "(x_train, y_train), (x_test, y_test) = tf.keras.datasets.mnist.load_data()"
   ],
   "outputs": [],
   "metadata": {}
  },
  {
   "cell_type": "markdown",
   "source": [
    "### Formate MNIST images to MNIST_M images format \n",
    "#### In order to create an unique model for multiple dataset, we need to rescale the images to the same dimensions (28 \\* 28 \\* 1 -> 32 \\* 32 \\* 3)"
   ],
   "metadata": {}
  },
  {
   "cell_type": "code",
   "execution_count": 4,
   "source": [
    "def reformate_list(values):\n",
    "    \"\"\" Reformat a list of images to 32*32*3 \"\"\"\n",
    "    res = []\n",
    "    for value in values:\n",
    "        im = []\n",
    "        \n",
    "        # Transform 1 channel into 3 channels\n",
    "        for i in range(len(value[0])):\n",
    "            row = []\n",
    "            for j in range(len(value[1])):\n",
    "                pix = value[i][j]\n",
    "                row.append([pix, pix, pix])\n",
    "            im.append(row)\n",
    "            \n",
    "        # Resize to 32*32\n",
    "        im = np.asarray(im)\n",
    "        res.append(resize(im, (32,32)) * 255)\n",
    "    return res"
   ],
   "outputs": [],
   "metadata": {}
  },
  {
   "cell_type": "markdown",
   "source": [
    "##### Reformating all dataset takes time so use those functions only once !"
   ],
   "metadata": {}
  },
  {
   "cell_type": "code",
   "execution_count": 54,
   "source": [
    "resized_xtrain = reformate_list(x_train)\n",
    "resized_xtest = reformate_list(x_test)"
   ],
   "outputs": [
    {
     "output_type": "stream",
     "name": "stdout",
     "text": [
      "CPU times: user 11min 35s, sys: 6min 26s, total: 18min 2s\n",
      "Wall time: 6min 4s\n"
     ]
    }
   ],
   "metadata": {}
  },
  {
   "cell_type": "markdown",
   "source": [
    "### Save new dataset for next usage\n",
    "#### To avoid losing our data and make the dataset creation easier on tensorflow, we will save them in directories with a specific architecture. \n",
    "##### Be sure to change the paths according to your own case."
   ],
   "metadata": {}
  },
  {
   "cell_type": "code",
   "execution_count": 6,
   "source": [
    "# Global path variables (change them if you need to)\n",
    "origin = os.getcwd()\n",
    "home_dir = origin + \"/data/MNIST_reformat/\"\n",
    "\n",
    "def create_dataset_arch():\n",
    "    \"\"\" Create one directory for each category of the dataset (10 here)\"\"\"\n",
    "    try: \n",
    "        os.mkdir(home_dir)\n",
    "    except OSError:\n",
    "        print(\"Creation dir failed\")\n",
    "    else:\n",
    "        print(\"Successfully created\")\n",
    "\n",
    "\n",
    "    for i in range(10):\n",
    "        try:\n",
    "            os.mkdir(home_dir + str(i))\n",
    "        except OSError:\n",
    "            print(\"Creation dir \" + str(i) + \" failed\")"
   ],
   "outputs": [],
   "metadata": {}
  },
  {
   "cell_type": "code",
   "execution_count": 7,
   "source": [
    "def fill_dir(samples, labels, id=0):\n",
    "    \"\"\" Fill the directories with the dataset depending of their labels \"\"\"\n",
    "    length = len(samples)\n",
    "    \n",
    "    for i in range(length):\n",
    "        arr = np.asarray(samples[i]).astype(np.uint8)\n",
    "        img = PIL.Image.fromarray(arr)\n",
    "        img.save(home_dir + str(labels[i]) + \"/\" + str(id) + \".png\")\n",
    "        id += 1\n",
    "    \n",
    "    print(\"Successfully saved !\")"
   ],
   "outputs": [],
   "metadata": {}
  },
  {
   "cell_type": "markdown",
   "source": [
    "##### Filling directories is a long process, be sure to use this cell only once !"
   ],
   "metadata": {}
  },
  {
   "cell_type": "code",
   "execution_count": 84,
   "source": [
    "fill_dir(resized_xtrain, y_train)\n",
    "fill_dir(resized_xtest, y_test, 60000)"
   ],
   "outputs": [
    {
     "output_type": "stream",
     "name": "stdout",
     "text": [
      "Successfully saved !\n",
      "Successfully saved !\n",
      "CPU times: user 1min 50s, sys: 1min 3s, total: 2min 54s\n",
      "Wall time: 13min 2s\n"
     ]
    }
   ],
   "metadata": {
    "scrolled": true
   }
  }
 ],
 "metadata": {
  "kernelspec": {
   "display_name": "Python 3",
   "language": "python",
   "name": "python3"
  },
  "language_info": {
   "codemirror_mode": {
    "name": "ipython",
    "version": 3
   },
   "file_extension": ".py",
   "mimetype": "text/x-python",
   "name": "python",
   "nbconvert_exporter": "python",
   "pygments_lexer": "ipython3",
   "version": "3.8.5"
  }
 },
 "nbformat": 4,
 "nbformat_minor": 4
}